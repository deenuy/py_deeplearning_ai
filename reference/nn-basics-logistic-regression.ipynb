{
 "cells": [
  {
   "cell_type": "code",
   "id": "initial_id",
   "metadata": {
    "collapsed": true,
    "ExecuteTime": {
     "end_time": "2024-08-21T09:50:21.577308Z",
     "start_time": "2024-08-21T09:50:21.561168Z"
    }
   },
   "source": [
    "import numpy as np\n",
    "import matplotlib.pyplot as plt\n"
   ],
   "outputs": [
    {
     "ename": "ModuleNotFoundError",
     "evalue": "No module named 'matplotlib'",
     "output_type": "error",
     "traceback": [
      "\u001B[0;31m---------------------------------------------------------------------------\u001B[0m",
      "\u001B[0;31mModuleNotFoundError\u001B[0m                       Traceback (most recent call last)",
      "Cell \u001B[0;32mIn[5], line 2\u001B[0m\n\u001B[1;32m      1\u001B[0m \u001B[38;5;28;01mimport\u001B[39;00m \u001B[38;5;21;01mnumpy\u001B[39;00m \u001B[38;5;28;01mas\u001B[39;00m \u001B[38;5;21;01mnp\u001B[39;00m\n\u001B[0;32m----> 2\u001B[0m \u001B[38;5;28;01mimport\u001B[39;00m \u001B[38;5;21;01mmatplotlib\u001B[39;00m\u001B[38;5;21;01m.\u001B[39;00m\u001B[38;5;21;01mpyplot\u001B[39;00m \u001B[38;5;28;01mas\u001B[39;00m \u001B[38;5;21;01mplt\u001B[39;00m\n",
      "\u001B[0;31mModuleNotFoundError\u001B[0m: No module named 'matplotlib'"
     ]
    }
   ],
   "execution_count": 5
  },
  {
   "metadata": {
    "ExecuteTime": {
     "end_time": "2024-08-21T09:50:18.431655Z",
     "start_time": "2024-08-21T09:50:18.411246Z"
    }
   },
   "cell_type": "code",
   "source": [
    "a = np.random.randn(1,3)\n",
    "print(a)\n",
    "print(a.shape)"
   ],
   "id": "2e8bb82a366c5055",
   "outputs": [
    {
     "name": "stdout",
     "output_type": "stream",
     "text": [
      "[[ 0.65593358  0.14040517 -1.57969137]]\n",
      "(1, 3)\n"
     ]
    }
   ],
   "execution_count": 4
  },
  {
   "metadata": {
    "ExecuteTime": {
     "end_time": "2024-08-21T09:50:42.775841Z",
     "start_time": "2024-08-21T09:50:42.773520Z"
    }
   },
   "cell_type": "code",
   "source": "b = np.random.randn(3,3)",
   "id": "b47f8e54de15c034",
   "outputs": [],
   "execution_count": 7
  },
  {
   "metadata": {
    "ExecuteTime": {
     "end_time": "2024-08-21T09:50:51.047612Z",
     "start_time": "2024-08-21T09:50:51.044029Z"
    }
   },
   "cell_type": "code",
   "source": [
    "c = a * b\n",
    "print(c)\n",
    "print(c.shape)"
   ],
   "id": "221e4f32780e3943",
   "outputs": [
    {
     "name": "stdout",
     "output_type": "stream",
     "text": [
      "[[-0.26197302  0.02176676 -2.50436943]\n",
      " [ 0.10949449 -0.10457691 -0.47576145]\n",
      " [-1.03875004 -0.01682987  1.15360764]]\n",
      "(3, 3)\n"
     ]
    }
   ],
   "execution_count": 9
  },
  {
   "metadata": {
    "ExecuteTime": {
     "end_time": "2024-08-21T09:52:29.166231Z",
     "start_time": "2024-08-21T09:52:29.155801Z"
    }
   },
   "cell_type": "code",
   "source": [
    "a = np.array([[2,1], [1,3]])\n",
    "\n",
    "print(a)\n",
    "print(a.shape)\n",
    "np.dot(a,a)"
   ],
   "id": "62608f1bf455ecb4",
   "outputs": [
    {
     "name": "stdout",
     "output_type": "stream",
     "text": [
      "[[2 1]\n",
      " [1 3]]\n",
      "(2, 2)\n"
     ]
    },
    {
     "data": {
      "text/plain": [
       "array([[ 5,  5],\n",
       "       [ 5, 10]])"
      ]
     },
     "execution_count": 10,
     "metadata": {},
     "output_type": "execute_result"
    }
   ],
   "execution_count": 10
  },
  {
   "metadata": {
    "ExecuteTime": {
     "end_time": "2024-08-21T09:57:02.822492Z",
     "start_time": "2024-08-21T09:57:02.818343Z"
    }
   },
   "cell_type": "code",
   "source": [
    "a = np.ones((3,4))\n",
    "a.shape\n",
    "b = np.ones((4,1))\n",
    "b.shape"
   ],
   "id": "3245a65c11fd28d",
   "outputs": [
    {
     "data": {
      "text/plain": [
       "(4, 1)"
      ]
     },
     "execution_count": 26,
     "metadata": {},
     "output_type": "execute_result"
    }
   ],
   "execution_count": 26
  },
  {
   "metadata": {
    "ExecuteTime": {
     "end_time": "2024-08-21T09:55:30.742130Z",
     "start_time": "2024-08-21T09:55:30.738888Z"
    }
   },
   "cell_type": "code",
   "source": [
    "for i in range(3):\n",
    "    for j in range(4):\n",
    "        a[i][j] = a[i][j] + 1\n",
    "        \n",
    "print(a)"
   ],
   "id": "4a3cc7a8e871f29",
   "outputs": [
    {
     "name": "stdout",
     "output_type": "stream",
     "text": [
      "[[3. 3. 3. 3.]\n",
      " [3. 3. 3. 3.]\n",
      " [3. 3. 3. 3.]]\n"
     ]
    }
   ],
   "execution_count": 19
  },
  {
   "metadata": {
    "ExecuteTime": {
     "end_time": "2024-08-21T09:56:17.170831Z",
     "start_time": "2024-08-21T09:56:17.168114Z"
    }
   },
   "cell_type": "code",
   "source": "a*b.transpose()",
   "id": "fe738024c4302584",
   "outputs": [
    {
     "data": {
      "text/plain": [
       "array([[1., 1., 1., 1.],\n",
       "       [1., 1., 1., 1.],\n",
       "       [1., 1., 1., 1.]])"
      ]
     },
     "execution_count": 22,
     "metadata": {},
     "output_type": "execute_result"
    }
   ],
   "execution_count": 22
  },
  {
   "metadata": {
    "ExecuteTime": {
     "end_time": "2024-08-21T09:56:38.019133Z",
     "start_time": "2024-08-21T09:56:38.015432Z"
    }
   },
   "cell_type": "code",
   "source": "a.transpose()*b",
   "id": "de8d6f9e07e4bf8e",
   "outputs": [
    {
     "data": {
      "text/plain": [
       "array([[1., 1., 1.],\n",
       "       [1., 1., 1.],\n",
       "       [1., 1., 1.],\n",
       "       [1., 1., 1.]])"
      ]
     },
     "execution_count": 24,
     "metadata": {},
     "output_type": "execute_result"
    }
   ],
   "execution_count": 24
  },
  {
   "metadata": {
    "ExecuteTime": {
     "end_time": "2024-08-21T09:57:07.888357Z",
     "start_time": "2024-08-21T09:57:07.884056Z"
    }
   },
   "cell_type": "code",
   "source": "np.dot(a,b)",
   "id": "4eb72e57b4f22697",
   "outputs": [
    {
     "data": {
      "text/plain": [
       "array([[4.],\n",
       "       [4.],\n",
       "       [4.]])"
      ]
     },
     "execution_count": 27,
     "metadata": {},
     "output_type": "execute_result"
    }
   ],
   "execution_count": 27
  },
  {
   "metadata": {
    "ExecuteTime": {
     "end_time": "2024-08-21T09:59:20.096511Z",
     "start_time": "2024-08-21T09:59:20.090203Z"
    }
   },
   "cell_type": "code",
   "source": [
    "a = np.array([[1,1], [1,-1]])\n",
    "print(a)\n",
    "print(a.shape)"
   ],
   "id": "511af27b0947ee65",
   "outputs": [
    {
     "name": "stdout",
     "output_type": "stream",
     "text": [
      "[[ 1  1]\n",
      " [ 1 -1]]\n",
      "(2, 2)\n"
     ]
    }
   ],
   "execution_count": 28
  },
  {
   "metadata": {
    "ExecuteTime": {
     "end_time": "2024-08-21T09:59:40.931973Z",
     "start_time": "2024-08-21T09:59:40.928123Z"
    }
   },
   "cell_type": "code",
   "source": [
    "b = np.array([[2], [3]])\n",
    "print(b)\n",
    "print(b.shape)"
   ],
   "id": "ac8085c19702a9ac",
   "outputs": [
    {
     "name": "stdout",
     "output_type": "stream",
     "text": [
      "[[2]\n",
      " [3]]\n",
      "(2, 1)\n"
     ]
    }
   ],
   "execution_count": 30
  },
  {
   "metadata": {
    "ExecuteTime": {
     "end_time": "2024-08-21T09:59:52.261928Z",
     "start_time": "2024-08-21T09:59:52.256556Z"
    }
   },
   "cell_type": "code",
   "source": "a+b",
   "id": "bd6aea1b05f0f6dc",
   "outputs": [
    {
     "data": {
      "text/plain": [
       "array([[3, 3],\n",
       "       [4, 2]])"
      ]
     },
     "execution_count": 31,
     "metadata": {},
     "output_type": "execute_result"
    }
   ],
   "execution_count": 31
  },
  {
   "metadata": {},
   "cell_type": "code",
   "outputs": [],
   "execution_count": null,
   "source": "",
   "id": "4a972c943690ad47"
  }
 ],
 "metadata": {
  "kernelspec": {
   "display_name": "Python 3",
   "language": "python",
   "name": "python3"
  },
  "language_info": {
   "codemirror_mode": {
    "name": "ipython",
    "version": 2
   },
   "file_extension": ".py",
   "mimetype": "text/x-python",
   "name": "python",
   "nbconvert_exporter": "python",
   "pygments_lexer": "ipython2",
   "version": "2.7.6"
  }
 },
 "nbformat": 4,
 "nbformat_minor": 5
}
